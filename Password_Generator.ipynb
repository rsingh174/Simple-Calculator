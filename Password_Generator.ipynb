{
 "cells": [
  {
   "cell_type": "code",
   "execution_count": null,
   "id": "9ace73e2-b6c6-416d-a7a8-d823af3ea141",
   "metadata": {},
   "outputs": [],
   "source": [
    "#Password Generator\n",
    "import random\n",
    "print(\"choose your password complexity: \\n1. Superstrong 2. Strong 3. Medium 4. Weak\")\n",
    "lower=\"abcdefghijklmnopqrstuvwxyz\"\n",
    "upper=\"ABCDEFGHIJKLMNOPQRSTUVWXYZ\"\n",
    "num=\"1234567890\"\n",
    "spchr=\"!@#$%^&*()~[]}{<>?/\"\n",
    "chac=lower+upper\n",
    "all=lower + upper + spchr + num\n",
    "chac_num=lower+upper+num\n",
    "types=input(\"Enter your password complexity: \")\n",
    "pas=types.lower()\n",
    "length=int(input(\"Enter the length of your password: \"))\n",
    "if pas==\"weak\":\n",
    "    password=\"\".join(random.sample(num,length))\n",
    "    print(f\"your {types} password is :{password}\")\n",
    "elif pas==\"medium\":\n",
    "    password = \"\".join(random.sample(chac, length))\n",
    "    print(f\"your {types} password is :{password}\")\n",
    "elif pas==\"strong\":\n",
    "    password = \"\".join(random.sample(chac_num, length))\n",
    "    print(f\"your {types} password is :{password}\")\n",
    "elif pas==\"superstrong\" or pas==\"super strong\":\n",
    "    password=\"\".join(random.sample(all,length))\n",
    "    print(f\"your {types} password is :{password}\")\n",
    "else:\n",
    "    print(\"invalid option\") "
   ]
  },
  {
   "cell_type": "code",
   "execution_count": null,
   "id": "eb709056-4fba-4f1e-9741-c79c9626d4b1",
   "metadata": {},
   "outputs": [],
   "source": []
  }
 ],
 "metadata": {
  "kernelspec": {
   "display_name": "Python 3 (ipykernel)",
   "language": "python",
   "name": "python3"
  },
  "language_info": {
   "codemirror_mode": {
    "name": "ipython",
    "version": 3
   },
   "file_extension": ".py",
   "mimetype": "text/x-python",
   "name": "python",
   "nbconvert_exporter": "python",
   "pygments_lexer": "ipython3",
   "version": "3.11.7"
  }
 },
 "nbformat": 4,
 "nbformat_minor": 5
}
