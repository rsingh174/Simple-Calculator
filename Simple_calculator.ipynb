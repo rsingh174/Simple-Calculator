{
 "cells": [
  {
   "cell_type": "code",
   "execution_count": 1,
   "id": "9207f7cd-1398-4e8e-a9e3-e3b4ddfaa747",
   "metadata": {},
   "outputs": [
    {
     "name": "stdout",
     "output_type": "stream",
     "text": [
      "Select operation.\n",
      "add for addition\n",
      "sub for subtraction\n",
      "mul for multiplication\n",
      "div for division\n"
     ]
    },
    {
     "name": "stdin",
     "output_type": "stream",
     "text": [
      "Enter choice (add/sub/mul/div):  add\n",
      "Enter first number:  4\n",
      "Enter second number:  8\n"
     ]
    },
    {
     "name": "stdout",
     "output_type": "stream",
     "text": [
      "4.0 + 8.0 = 12.0\n"
     ]
    },
    {
     "name": "stdin",
     "output_type": "stream",
     "text": [
      "Next calculation? (yes/no):  yes\n",
      "Enter choice (add/sub/mul/div):  sub\n",
      "Enter first number:  5\n",
      "Enter second number:  3\n"
     ]
    },
    {
     "name": "stdout",
     "output_type": "stream",
     "text": [
      "5.0 - 3.0 = 2.0\n"
     ]
    },
    {
     "name": "stdin",
     "output_type": "stream",
     "text": [
      "Next calculation? (yes/no):  yes\n",
      "Enter choice (add/sub/mul/div):  mul\n",
      "Enter first number:  5\n",
      "Enter second number:  5\n"
     ]
    },
    {
     "name": "stdout",
     "output_type": "stream",
     "text": [
      "5.0 * 5.0 = 25.0\n"
     ]
    },
    {
     "name": "stdin",
     "output_type": "stream",
     "text": [
      "Next calculation? (yes/no):  yes\n",
      "Enter choice (add/sub/mul/div):  div\n",
      "Enter first number:  4\n",
      "Enter second number:  0\n"
     ]
    },
    {
     "name": "stdout",
     "output_type": "stream",
     "text": [
      "4.0 / 0.0 = invalid operation\n"
     ]
    },
    {
     "name": "stdin",
     "output_type": "stream",
     "text": [
      "Next calculation? (yes/no):  yes\n",
      "Enter choice (add/sub/mul/div):  div\n",
      "Enter first number:  7\n",
      "Enter second number:  3\n"
     ]
    },
    {
     "name": "stdout",
     "output_type": "stream",
     "text": [
      "7.0 / 3.0 = 2.3333333333333335\n"
     ]
    },
    {
     "name": "stdin",
     "output_type": "stream",
     "text": [
      "Next calculation? (yes/no):  no\n"
     ]
    }
   ],
   "source": [
    "#Calculator\n",
    "def add(x, y):\n",
    "    return x + y\n",
    "\n",
    "def subtract(x, y):\n",
    "    return x - y\n",
    "\n",
    "def multiply(x, y):\n",
    "    return x * y\n",
    "\n",
    "def divide(x, y):\n",
    "    if y==0:\n",
    "        return \"invalid operation\"\n",
    "    else:\n",
    "        return x / y\n",
    "\n",
    "print(\"Select operation.\")\n",
    "print(\"add for addition\")\n",
    "print(\"sub for subtraction\")\n",
    "print(\"mul for multiplication\")\n",
    "print(\"div for division\")\n",
    "\n",
    "while True:\n",
    "    choice = input(\"Enter choice (add/sub/mul/div): \")\n",
    "\n",
    "    if choice in ('add', 'sub', 'mul', 'div'):\n",
    "        num1 = float(input(\"Enter first number: \"))\n",
    "        num2 = float(input(\"Enter second number: \"))\n",
    "\n",
    "        if choice == 'add':\n",
    "            print(num1, \"+\", num2, \"=\", add(num1, num2))\n",
    "        elif choice == 'sub':\n",
    "            print(num1, \"-\", num2, \"=\", subtract(num1, num2))\n",
    "        elif choice == 'mul':\n",
    "            print(num1, \"*\", num2, \"=\", multiply(num1, num2))\n",
    "        elif choice == 'div':\n",
    "            print(num1, \"/\", num2, \"=\", divide(num1, num2))\n",
    "\n",
    "        next_calculation = input(\"Next calculation? (yes/no): \")\n",
    "        if next_calculation.lower() != \"yes\":\n",
    "            break\n",
    "    else:\n",
    "        print(\"Invalid Operation\") "
   ]
  },
  {
   "cell_type": "code",
   "execution_count": null,
   "id": "b4303678-f646-4818-96ca-651b2a632028",
   "metadata": {},
   "outputs": [],
   "source": []
  }
 ],
 "metadata": {
  "kernelspec": {
   "display_name": "Python 3 (ipykernel)",
   "language": "python",
   "name": "python3"
  },
  "language_info": {
   "codemirror_mode": {
    "name": "ipython",
    "version": 3
   },
   "file_extension": ".py",
   "mimetype": "text/x-python",
   "name": "python",
   "nbconvert_exporter": "python",
   "pygments_lexer": "ipython3",
   "version": "3.11.7"
  }
 },
 "nbformat": 4,
 "nbformat_minor": 5
}
